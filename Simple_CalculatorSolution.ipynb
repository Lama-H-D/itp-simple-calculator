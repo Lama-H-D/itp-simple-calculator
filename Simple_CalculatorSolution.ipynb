{
  "nbformat": 4,
  "nbformat_minor": 0,
  "metadata": {
    "colab": {
      "provenance": []
    },
    "kernelspec": {
      "name": "python3",
      "display_name": "Python 3"
    },
    "language_info": {
      "name": "python"
    }
  },
  "cells": [
    {
      "cell_type": "code",
      "source": [
        "def add(x, y):\n",
        "    return x + y\n",
        "\n",
        "\n",
        "def subtract(x, y):\n",
        "    return x - y\n",
        "\n",
        "\n",
        "def divide(x, y):\n",
        "   if y != 0:\n",
        "        return x / y\n",
        "   else:\n",
        "        return \"Invalid value for denominator, cant't divide by 0!\"\n",
        "\n",
        "\n",
        "def multiply(x, y):\n",
        "    return x * y\n",
        "\n",
        "\n",
        "def square(x):\n",
        "    return x * x\n",
        "\n",
        "\n",
        "def power(x, y):\n",
        "    return x**y\n",
        "\n",
        "\n",
        "def sqrt(x):\n",
        "    if x >= 0:\n",
        "        return math.sqrt(x)\n",
        "    else:\n",
        "        return \"Error! Square root of a negative number.\"\n",
        "\n",
        "def calculator():\n",
        "    print(\"Select operation:\")\n",
        "    print(\"1. Add\")\n",
        "    print(\"2. Subtract\")\n",
        "    print(\"3. Multiply\")\n",
        "    print(\"4. Divide\")\n",
        "    print(\"5. Square\")\n",
        "    print(\"6. Power\")\n",
        "    print(\"7. Square Root\")\n",
        "\n",
        "    choice = input(\"Enter choice(1-7): \")\n",
        "\n",
        "    if choice in ['1', '2', '3', '4', '6']:\n",
        "        num1 = float(input(\"Enter first number: \"))\n",
        "        num2 = float(input(\"Enter second number: \"))\n",
        "\n",
        "        operations = {\n",
        "            '1': add,\n",
        "            '2': subtract,\n",
        "            '3': multiply,\n",
        "            '4': divide,\n",
        "            '6': power\n",
        "        }\n",
        "        print(f\"The result is: {operations[choice](num1, num2)}\")\n",
        "\n",
        "    elif choice == '5':\n",
        "        num = float(input(\"Enter the number: \"))\n",
        "        print(f\"The result is: {square(num)}\")\n",
        "\n",
        "    elif choice == '7':\n",
        "        num = float(input(\"Enter the number: \"))\n",
        "        print(f\"The result is: {square_root(num)}\")\n",
        "\n",
        "    else:\n",
        "        print(\"Invalid input\")\n",
        "\n",
        "if __name__ == \"__main__\":\n",
        "    calculator()\n",
        "\n",
        ""
      ],
      "metadata": {
        "colab": {
          "base_uri": "https://localhost:8080/"
        },
        "id": "S-kbYUF6roWI",
        "outputId": "0deeb961-0650-497f-eb4e-ee57e0b207ae"
      },
      "execution_count": 34,
      "outputs": [
        {
          "output_type": "stream",
          "name": "stdout",
          "text": [
            "Select operation:\n",
            "1. Add\n",
            "2. Subtract\n",
            "3. Multiply\n",
            "4. Divide\n",
            "5. Square\n",
            "6. Power\n",
            "7. Square Root\n",
            "Enter choice(1-7): 3\n",
            "Enter first number: 3\n",
            "Enter second number: 3\n",
            "The result is: 9.0\n"
          ]
        }
      ]
    }
  ]
}